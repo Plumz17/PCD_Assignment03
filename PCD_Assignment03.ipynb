{
  "nbformat": 4,
  "nbformat_minor": 0,
  "metadata": {
    "colab": {
      "provenance": [],
      "authorship_tag": "ABX9TyOwCg2fL9xtwc0WgZy1IohO",
      "include_colab_link": true
    },
    "kernelspec": {
      "name": "python3",
      "display_name": "Python 3"
    },
    "language_info": {
      "name": "python"
    }
  },
  "cells": [
    {
      "cell_type": "markdown",
      "metadata": {
        "id": "view-in-github",
        "colab_type": "text"
      },
      "source": [
        "<a href=\"https://colab.research.google.com/github/Plumz17/PCD_Assignment03/blob/main/PCD_Assignment03.ipynb\" target=\"_parent\"><img src=\"https://colab.research.google.com/assets/colab-badge.svg\" alt=\"Open In Colab\"/></a>"
      ]
    },
    {
      "cell_type": "markdown",
      "source": [
        "#Third Digital Image Processing Assignment\n",
        "##Analysis of Image Enhancement Methods - Anders Emmanuel Tan (24/541351/PA/22964)"
      ],
      "metadata": {
        "id": "dkmO9eswqcE4"
      }
    },
    {
      "cell_type": "markdown",
      "source": [
        "## 1. Setting Up Image to be Processed"
      ],
      "metadata": {
        "id": "8h1o-F4Gqy-D"
      }
    },
    {
      "cell_type": "code",
      "execution_count": null,
      "metadata": {
        "id": "KcO5KRrmqWMc"
      },
      "outputs": [],
      "source": [
        "#Cloning Github Repository to get the Image\n",
        "!rm -rf PCD_Assignment03\n",
        "!git clone https://github.com/Plumz17/PCD_Assignment03"
      ]
    }
  ]
}